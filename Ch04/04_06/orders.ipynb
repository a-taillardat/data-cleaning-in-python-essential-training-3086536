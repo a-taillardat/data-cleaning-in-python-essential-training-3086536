{
 "cells": [
  {
   "cell_type": "code",
   "execution_count": 2,
   "metadata": {},
   "outputs": [
    {
     "data": {
      "text/html": [
       "<div>\n",
       "<style scoped>\n",
       "    .dataframe tbody tr th:only-of-type {\n",
       "        vertical-align: middle;\n",
       "    }\n",
       "\n",
       "    .dataframe tbody tr th {\n",
       "        vertical-align: top;\n",
       "    }\n",
       "\n",
       "    .dataframe thead th {\n",
       "        text-align: right;\n",
       "    }\n",
       "</style>\n",
       "<table border=\"1\" class=\"dataframe\">\n",
       "  <thead>\n",
       "    <tr style=\"text-align: right;\">\n",
       "      <th></th>\n",
       "      <th>time</th>\n",
       "      <th>symbol</th>\n",
       "      <th>price</th>\n",
       "      <th>side</th>\n",
       "    </tr>\n",
       "  </thead>\n",
       "  <tbody>\n",
       "    <tr>\n",
       "      <th>0</th>\n",
       "      <td>2027-06-01 08:02:00</td>\n",
       "      <td>MSFT</td>\n",
       "      <td>264.125209</td>\n",
       "      <td>bid</td>\n",
       "    </tr>\n",
       "    <tr>\n",
       "      <th>1</th>\n",
       "      <td>2027-06-01 08:02:17</td>\n",
       "      <td>MSFT</td>\n",
       "      <td>265.501745</td>\n",
       "      <td>ask</td>\n",
       "    </tr>\n",
       "    <tr>\n",
       "      <th>2</th>\n",
       "      <td>2027-06-01 08:02:34</td>\n",
       "      <td>IBM</td>\n",
       "      <td>145.990889</td>\n",
       "      <td>bid</td>\n",
       "    </tr>\n",
       "    <tr>\n",
       "      <th>3</th>\n",
       "      <td>2027-06-01 08:02:51</td>\n",
       "      <td>ORCL</td>\n",
       "      <td>78.809339</td>\n",
       "      <td>ask</td>\n",
       "    </tr>\n",
       "    <tr>\n",
       "      <th>4</th>\n",
       "      <td>2027-06-01 08:03:08</td>\n",
       "      <td>ORCL</td>\n",
       "      <td>78.621716</td>\n",
       "      <td>ask</td>\n",
       "    </tr>\n",
       "  </tbody>\n",
       "</table>\n",
       "</div>"
      ],
      "text/plain": [
       "                 time symbol       price side\n",
       "0 2027-06-01 08:02:00   MSFT  264.125209  bid\n",
       "1 2027-06-01 08:02:17   MSFT  265.501745  ask\n",
       "2 2027-06-01 08:02:34    IBM  145.990889  bid\n",
       "3 2027-06-01 08:02:51   ORCL   78.809339  ask\n",
       "4 2027-06-01 08:03:08   ORCL   78.621716  ask"
      ]
     },
     "execution_count": 2,
     "metadata": {},
     "output_type": "execute_result"
    }
   ],
   "source": [
    "import pandas as pd\n",
    "\n",
    "df = pd.read_csv('orders.csv', parse_dates=['time'])\n",
    "df.head()"
   ]
  },
  {
   "cell_type": "code",
   "execution_count": 3,
   "metadata": {},
   "outputs": [
    {
     "data": {
      "text/plain": [
       "time      datetime64[ns]\n",
       "symbol            object\n",
       "price            float64\n",
       "side              object\n",
       "dtype: object"
      ]
     },
     "execution_count": 3,
     "metadata": {},
     "output_type": "execute_result"
    }
   ],
   "source": [
    "df.dtypes"
   ]
  },
  {
   "cell_type": "code",
   "execution_count": 4,
   "metadata": {},
   "outputs": [],
   "source": [
    "def is_valid_row(row):\n",
    "    if row['time'] < pd.Timestamp('1900'):\n",
    "        return False\n",
    "\n",
    "    if pd.isnull(row['symbol']) or row['symbol'].strip() == '':\n",
    "        return False\n",
    "\n",
    "    if row['price'] <= 0:\n",
    "        return False\n",
    "\n",
    "    return True\n",
    "\n",
    "\n",
    "ok_df = df[df.apply(is_valid_row, axis=1)]"
   ]
  },
  {
   "cell_type": "code",
   "execution_count": 5,
   "metadata": {},
   "outputs": [
    {
     "name": "stdout",
     "output_type": "stream",
     "text": [
      "5.00% bad rows\n",
      "bad rows:\n",
      "                  time symbol       price side\n",
      "16 2027-06-01 08:06:32    NaN  265.443295  ask\n"
     ]
    }
   ],
   "source": [
    "num_bad = len(df) - len(ok_df)\n",
    "percent_bad = num_bad/len(df) * 100\n",
    "print(f'{percent_bad:.2f}% bad rows')\n",
    "if num_bad > 0:\n",
    "    bad_rows = df[~df.index.isin(ok_df.index)]\n",
    "    print('bad rows:')\n",
    "    print(bad_rows)"
   ]
  }
 ],
 "metadata": {
  "kernelspec": {
   "display_name": "Python 3",
   "language": "python",
   "name": "python3"
  },
  "language_info": {
   "codemirror_mode": {
    "name": "ipython",
    "version": 3
   },
   "file_extension": ".py",
   "mimetype": "text/x-python",
   "name": "python",
   "nbconvert_exporter": "python",
   "pygments_lexer": "ipython3",
   "version": "3.10.12"
  }
 },
 "nbformat": 4,
 "nbformat_minor": 2
}
